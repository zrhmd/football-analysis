{
  "nbformat": 4,
  "nbformat_minor": 0,
  "metadata": {
    "colab": {
      "name": "2_Nunez_vs_Haaland.ipynb",
      "provenance": [],
      "collapsed_sections": []
    },
    "kernelspec": {
      "name": "python3",
      "display_name": "Python 3"
    },
    "language_info": {
      "name": "python"
    }
  },
  "cells": [
    {
      "cell_type": "code",
      "execution_count": 1,
      "metadata": {
        "id": "u1vqfRBO1RFg"
      },
      "outputs": [],
      "source": [
        "import pandas as pd"
      ]
    },
    {
      "cell_type": "code",
      "source": [
        "import matplotlib.pyplot as plt\n"
      ],
      "metadata": {
        "id": "uQF1_aRB1mLt"
      },
      "execution_count": 2,
      "outputs": []
    },
    {
      "cell_type": "code",
      "source": [
        "pip install soccerplots"
      ],
      "metadata": {
        "colab": {
          "base_uri": "https://localhost:8080/"
        },
        "id": "j3tpNzVw1r-_",
        "outputId": "eeceb3e1-4cac-409a-969e-82d9e20a68e1"
      },
      "execution_count": 3,
      "outputs": [
        {
          "output_type": "stream",
          "name": "stdout",
          "text": [
            "Looking in indexes: https://pypi.org/simple, https://us-python.pkg.dev/colab-wheels/public/simple/\n",
            "Collecting soccerplots\n",
            "  Downloading soccerplots-1.0.0-py3-none-any.whl (13 kB)\n",
            "Requirement already satisfied: numpy in /usr/local/lib/python3.7/dist-packages (from soccerplots) (1.21.6)\n",
            "Requirement already satisfied: matplotlib in /usr/local/lib/python3.7/dist-packages (from soccerplots) (3.2.2)\n",
            "Requirement already satisfied: pillow in /usr/local/lib/python3.7/dist-packages (from soccerplots) (7.1.2)\n",
            "Requirement already satisfied: python-dateutil>=2.1 in /usr/local/lib/python3.7/dist-packages (from matplotlib->soccerplots) (2.8.2)\n",
            "Requirement already satisfied: kiwisolver>=1.0.1 in /usr/local/lib/python3.7/dist-packages (from matplotlib->soccerplots) (1.4.4)\n",
            "Requirement already satisfied: cycler>=0.10 in /usr/local/lib/python3.7/dist-packages (from matplotlib->soccerplots) (0.11.0)\n",
            "Requirement already satisfied: pyparsing!=2.0.4,!=2.1.2,!=2.1.6,>=2.0.1 in /usr/local/lib/python3.7/dist-packages (from matplotlib->soccerplots) (3.0.9)\n",
            "Requirement already satisfied: typing-extensions in /usr/local/lib/python3.7/dist-packages (from kiwisolver>=1.0.1->matplotlib->soccerplots) (4.1.1)\n",
            "Requirement already satisfied: six>=1.5 in /usr/local/lib/python3.7/dist-packages (from python-dateutil>=2.1->matplotlib->soccerplots) (1.15.0)\n",
            "Installing collected packages: soccerplots\n",
            "Successfully installed soccerplots-1.0.0\n"
          ]
        }
      ]
    },
    {
      "cell_type": "code",
      "source": [
        "from soccerplots.radar_chart import Radar"
      ],
      "metadata": {
        "id": "B9ZXOQLq1u5L"
      },
      "execution_count": 4,
      "outputs": []
    },
    {
      "cell_type": "code",
      "source": [
        "df = pd.read_csv('/content/Nunez v Haaland.csv')\n",
        "df"
      ],
      "metadata": {
        "colab": {
          "base_uri": "https://localhost:8080/",
          "height": 275
        },
        "id": "QpJj-68a13Lq",
        "outputId": "77d9f2fc-c551-4c9f-f8fa-6a0ada080809"
      },
      "execution_count": 29,
      "outputs": [
        {
          "output_type": "execute_result",
          "data": {
            "text/plain": [
              "             Name  Age     Squad Country              Comp LgRank   90s  \\\n",
              "0    Darwin Nunez   22   Benfica  pt POR  1. Primeira Liga    3rd  22.0   \n",
              "1  Erling Haaland   21  Dortmund  de GER     1. Bundesliga    2nd  21.2   \n",
              "\n",
              "   Goals  Shots  Shots on Target  ...  Goals/SoT  Dist   FK  Penalty Kicks  \\\n",
              "0     26     85               44  ...       0.50   NaN  NaN              4   \n",
              "1     22     74               31  ...       0.52  13.5  0.0              6   \n",
              "\n",
              "   Penalty Kicks attempted    xG  npxG  npxG/Sh  G-xG  np:G-xG  \n",
              "0                        4   NaN   NaN      NaN   NaN      NaN  \n",
              "1                        6  17.6  13.0     0.18   4.4      3.0  \n",
              "\n",
              "[2 rows x 24 columns]"
            ],
            "text/html": [
              "\n",
              "  <div id=\"df-e2105aa6-9f9c-4809-a4db-a9d57d7dcfeb\">\n",
              "    <div class=\"colab-df-container\">\n",
              "      <div>\n",
              "<style scoped>\n",
              "    .dataframe tbody tr th:only-of-type {\n",
              "        vertical-align: middle;\n",
              "    }\n",
              "\n",
              "    .dataframe tbody tr th {\n",
              "        vertical-align: top;\n",
              "    }\n",
              "\n",
              "    .dataframe thead th {\n",
              "        text-align: right;\n",
              "    }\n",
              "</style>\n",
              "<table border=\"1\" class=\"dataframe\">\n",
              "  <thead>\n",
              "    <tr style=\"text-align: right;\">\n",
              "      <th></th>\n",
              "      <th>Name</th>\n",
              "      <th>Age</th>\n",
              "      <th>Squad</th>\n",
              "      <th>Country</th>\n",
              "      <th>Comp</th>\n",
              "      <th>LgRank</th>\n",
              "      <th>90s</th>\n",
              "      <th>Goals</th>\n",
              "      <th>Shots</th>\n",
              "      <th>Shots on Target</th>\n",
              "      <th>...</th>\n",
              "      <th>Goals/SoT</th>\n",
              "      <th>Dist</th>\n",
              "      <th>FK</th>\n",
              "      <th>Penalty Kicks</th>\n",
              "      <th>Penalty Kicks attempted</th>\n",
              "      <th>xG</th>\n",
              "      <th>npxG</th>\n",
              "      <th>npxG/Sh</th>\n",
              "      <th>G-xG</th>\n",
              "      <th>np:G-xG</th>\n",
              "    </tr>\n",
              "  </thead>\n",
              "  <tbody>\n",
              "    <tr>\n",
              "      <th>0</th>\n",
              "      <td>Darwin Nunez</td>\n",
              "      <td>22</td>\n",
              "      <td>Benfica</td>\n",
              "      <td>pt POR</td>\n",
              "      <td>1. Primeira Liga</td>\n",
              "      <td>3rd</td>\n",
              "      <td>22.0</td>\n",
              "      <td>26</td>\n",
              "      <td>85</td>\n",
              "      <td>44</td>\n",
              "      <td>...</td>\n",
              "      <td>0.50</td>\n",
              "      <td>NaN</td>\n",
              "      <td>NaN</td>\n",
              "      <td>4</td>\n",
              "      <td>4</td>\n",
              "      <td>NaN</td>\n",
              "      <td>NaN</td>\n",
              "      <td>NaN</td>\n",
              "      <td>NaN</td>\n",
              "      <td>NaN</td>\n",
              "    </tr>\n",
              "    <tr>\n",
              "      <th>1</th>\n",
              "      <td>Erling Haaland</td>\n",
              "      <td>21</td>\n",
              "      <td>Dortmund</td>\n",
              "      <td>de GER</td>\n",
              "      <td>1. Bundesliga</td>\n",
              "      <td>2nd</td>\n",
              "      <td>21.2</td>\n",
              "      <td>22</td>\n",
              "      <td>74</td>\n",
              "      <td>31</td>\n",
              "      <td>...</td>\n",
              "      <td>0.52</td>\n",
              "      <td>13.5</td>\n",
              "      <td>0.0</td>\n",
              "      <td>6</td>\n",
              "      <td>6</td>\n",
              "      <td>17.6</td>\n",
              "      <td>13.0</td>\n",
              "      <td>0.18</td>\n",
              "      <td>4.4</td>\n",
              "      <td>3.0</td>\n",
              "    </tr>\n",
              "  </tbody>\n",
              "</table>\n",
              "<p>2 rows × 24 columns</p>\n",
              "</div>\n",
              "      <button class=\"colab-df-convert\" onclick=\"convertToInteractive('df-e2105aa6-9f9c-4809-a4db-a9d57d7dcfeb')\"\n",
              "              title=\"Convert this dataframe to an interactive table.\"\n",
              "              style=\"display:none;\">\n",
              "        \n",
              "  <svg xmlns=\"http://www.w3.org/2000/svg\" height=\"24px\"viewBox=\"0 0 24 24\"\n",
              "       width=\"24px\">\n",
              "    <path d=\"M0 0h24v24H0V0z\" fill=\"none\"/>\n",
              "    <path d=\"M18.56 5.44l.94 2.06.94-2.06 2.06-.94-2.06-.94-.94-2.06-.94 2.06-2.06.94zm-11 1L8.5 8.5l.94-2.06 2.06-.94-2.06-.94L8.5 2.5l-.94 2.06-2.06.94zm10 10l.94 2.06.94-2.06 2.06-.94-2.06-.94-.94-2.06-.94 2.06-2.06.94z\"/><path d=\"M17.41 7.96l-1.37-1.37c-.4-.4-.92-.59-1.43-.59-.52 0-1.04.2-1.43.59L10.3 9.45l-7.72 7.72c-.78.78-.78 2.05 0 2.83L4 21.41c.39.39.9.59 1.41.59.51 0 1.02-.2 1.41-.59l7.78-7.78 2.81-2.81c.8-.78.8-2.07 0-2.86zM5.41 20L4 18.59l7.72-7.72 1.47 1.35L5.41 20z\"/>\n",
              "  </svg>\n",
              "      </button>\n",
              "      \n",
              "  <style>\n",
              "    .colab-df-container {\n",
              "      display:flex;\n",
              "      flex-wrap:wrap;\n",
              "      gap: 12px;\n",
              "    }\n",
              "\n",
              "    .colab-df-convert {\n",
              "      background-color: #E8F0FE;\n",
              "      border: none;\n",
              "      border-radius: 50%;\n",
              "      cursor: pointer;\n",
              "      display: none;\n",
              "      fill: #1967D2;\n",
              "      height: 32px;\n",
              "      padding: 0 0 0 0;\n",
              "      width: 32px;\n",
              "    }\n",
              "\n",
              "    .colab-df-convert:hover {\n",
              "      background-color: #E2EBFA;\n",
              "      box-shadow: 0px 1px 2px rgba(60, 64, 67, 0.3), 0px 1px 3px 1px rgba(60, 64, 67, 0.15);\n",
              "      fill: #174EA6;\n",
              "    }\n",
              "\n",
              "    [theme=dark] .colab-df-convert {\n",
              "      background-color: #3B4455;\n",
              "      fill: #D2E3FC;\n",
              "    }\n",
              "\n",
              "    [theme=dark] .colab-df-convert:hover {\n",
              "      background-color: #434B5C;\n",
              "      box-shadow: 0px 1px 3px 1px rgba(0, 0, 0, 0.15);\n",
              "      filter: drop-shadow(0px 1px 2px rgba(0, 0, 0, 0.3));\n",
              "      fill: #FFFFFF;\n",
              "    }\n",
              "  </style>\n",
              "\n",
              "      <script>\n",
              "        const buttonEl =\n",
              "          document.querySelector('#df-e2105aa6-9f9c-4809-a4db-a9d57d7dcfeb button.colab-df-convert');\n",
              "        buttonEl.style.display =\n",
              "          google.colab.kernel.accessAllowed ? 'block' : 'none';\n",
              "\n",
              "        async function convertToInteractive(key) {\n",
              "          const element = document.querySelector('#df-e2105aa6-9f9c-4809-a4db-a9d57d7dcfeb');\n",
              "          const dataTable =\n",
              "            await google.colab.kernel.invokeFunction('convertToInteractive',\n",
              "                                                     [key], {});\n",
              "          if (!dataTable) return;\n",
              "\n",
              "          const docLinkHtml = 'Like what you see? Visit the ' +\n",
              "            '<a target=\"_blank\" href=https://colab.research.google.com/notebooks/data_table.ipynb>data table notebook</a>'\n",
              "            + ' to learn more about interactive tables.';\n",
              "          element.innerHTML = '';\n",
              "          dataTable['output_type'] = 'display_data';\n",
              "          await google.colab.output.renderOutput(dataTable, element);\n",
              "          const docLink = document.createElement('div');\n",
              "          docLink.innerHTML = docLinkHtml;\n",
              "          element.appendChild(docLink);\n",
              "        }\n",
              "      </script>\n",
              "    </div>\n",
              "  </div>\n",
              "  "
            ]
          },
          "metadata": {},
          "execution_count": 29
        }
      ]
    },
    {
      "cell_type": "code",
      "source": [
        "# Dropping all missing values attributes\n",
        "df = df.dropna(axis = 1)\n",
        "df"
      ],
      "metadata": {
        "colab": {
          "base_uri": "https://localhost:8080/",
          "height": 245
        },
        "id": "RswBOpSe1_kg",
        "outputId": "6f0d2f46-7499-49ed-88ff-4cb0fd5cb7b9"
      },
      "execution_count": 31,
      "outputs": [
        {
          "output_type": "execute_result",
          "data": {
            "text/plain": [
              "             Name  Age     Squad Country              Comp LgRank   90s  \\\n",
              "0    Darwin Nunez   22   Benfica  pt POR  1. Primeira Liga    3rd  22.0   \n",
              "1  Erling Haaland   21  Dortmund  de GER     1. Bundesliga    2nd  21.2   \n",
              "\n",
              "   Goals  Shots  Shots on Target  SoT%  Shots/90  SoT/90  Goals/Shot  \\\n",
              "0     26     85               44  51.8      3.87    2.00        0.26   \n",
              "1     22     74               31  41.9      3.49    1.46        0.22   \n",
              "\n",
              "   Goals/SoT  Penalty Kicks  Penalty Kicks attempted  \n",
              "0       0.50              4                        4  \n",
              "1       0.52              6                        6  "
            ],
            "text/html": [
              "\n",
              "  <div id=\"df-40760f68-7d20-4150-b444-bbce2be72655\">\n",
              "    <div class=\"colab-df-container\">\n",
              "      <div>\n",
              "<style scoped>\n",
              "    .dataframe tbody tr th:only-of-type {\n",
              "        vertical-align: middle;\n",
              "    }\n",
              "\n",
              "    .dataframe tbody tr th {\n",
              "        vertical-align: top;\n",
              "    }\n",
              "\n",
              "    .dataframe thead th {\n",
              "        text-align: right;\n",
              "    }\n",
              "</style>\n",
              "<table border=\"1\" class=\"dataframe\">\n",
              "  <thead>\n",
              "    <tr style=\"text-align: right;\">\n",
              "      <th></th>\n",
              "      <th>Name</th>\n",
              "      <th>Age</th>\n",
              "      <th>Squad</th>\n",
              "      <th>Country</th>\n",
              "      <th>Comp</th>\n",
              "      <th>LgRank</th>\n",
              "      <th>90s</th>\n",
              "      <th>Goals</th>\n",
              "      <th>Shots</th>\n",
              "      <th>Shots on Target</th>\n",
              "      <th>SoT%</th>\n",
              "      <th>Shots/90</th>\n",
              "      <th>SoT/90</th>\n",
              "      <th>Goals/Shot</th>\n",
              "      <th>Goals/SoT</th>\n",
              "      <th>Penalty Kicks</th>\n",
              "      <th>Penalty Kicks attempted</th>\n",
              "    </tr>\n",
              "  </thead>\n",
              "  <tbody>\n",
              "    <tr>\n",
              "      <th>0</th>\n",
              "      <td>Darwin Nunez</td>\n",
              "      <td>22</td>\n",
              "      <td>Benfica</td>\n",
              "      <td>pt POR</td>\n",
              "      <td>1. Primeira Liga</td>\n",
              "      <td>3rd</td>\n",
              "      <td>22.0</td>\n",
              "      <td>26</td>\n",
              "      <td>85</td>\n",
              "      <td>44</td>\n",
              "      <td>51.8</td>\n",
              "      <td>3.87</td>\n",
              "      <td>2.00</td>\n",
              "      <td>0.26</td>\n",
              "      <td>0.50</td>\n",
              "      <td>4</td>\n",
              "      <td>4</td>\n",
              "    </tr>\n",
              "    <tr>\n",
              "      <th>1</th>\n",
              "      <td>Erling Haaland</td>\n",
              "      <td>21</td>\n",
              "      <td>Dortmund</td>\n",
              "      <td>de GER</td>\n",
              "      <td>1. Bundesliga</td>\n",
              "      <td>2nd</td>\n",
              "      <td>21.2</td>\n",
              "      <td>22</td>\n",
              "      <td>74</td>\n",
              "      <td>31</td>\n",
              "      <td>41.9</td>\n",
              "      <td>3.49</td>\n",
              "      <td>1.46</td>\n",
              "      <td>0.22</td>\n",
              "      <td>0.52</td>\n",
              "      <td>6</td>\n",
              "      <td>6</td>\n",
              "    </tr>\n",
              "  </tbody>\n",
              "</table>\n",
              "</div>\n",
              "      <button class=\"colab-df-convert\" onclick=\"convertToInteractive('df-40760f68-7d20-4150-b444-bbce2be72655')\"\n",
              "              title=\"Convert this dataframe to an interactive table.\"\n",
              "              style=\"display:none;\">\n",
              "        \n",
              "  <svg xmlns=\"http://www.w3.org/2000/svg\" height=\"24px\"viewBox=\"0 0 24 24\"\n",
              "       width=\"24px\">\n",
              "    <path d=\"M0 0h24v24H0V0z\" fill=\"none\"/>\n",
              "    <path d=\"M18.56 5.44l.94 2.06.94-2.06 2.06-.94-2.06-.94-.94-2.06-.94 2.06-2.06.94zm-11 1L8.5 8.5l.94-2.06 2.06-.94-2.06-.94L8.5 2.5l-.94 2.06-2.06.94zm10 10l.94 2.06.94-2.06 2.06-.94-2.06-.94-.94-2.06-.94 2.06-2.06.94z\"/><path d=\"M17.41 7.96l-1.37-1.37c-.4-.4-.92-.59-1.43-.59-.52 0-1.04.2-1.43.59L10.3 9.45l-7.72 7.72c-.78.78-.78 2.05 0 2.83L4 21.41c.39.39.9.59 1.41.59.51 0 1.02-.2 1.41-.59l7.78-7.78 2.81-2.81c.8-.78.8-2.07 0-2.86zM5.41 20L4 18.59l7.72-7.72 1.47 1.35L5.41 20z\"/>\n",
              "  </svg>\n",
              "      </button>\n",
              "      \n",
              "  <style>\n",
              "    .colab-df-container {\n",
              "      display:flex;\n",
              "      flex-wrap:wrap;\n",
              "      gap: 12px;\n",
              "    }\n",
              "\n",
              "    .colab-df-convert {\n",
              "      background-color: #E8F0FE;\n",
              "      border: none;\n",
              "      border-radius: 50%;\n",
              "      cursor: pointer;\n",
              "      display: none;\n",
              "      fill: #1967D2;\n",
              "      height: 32px;\n",
              "      padding: 0 0 0 0;\n",
              "      width: 32px;\n",
              "    }\n",
              "\n",
              "    .colab-df-convert:hover {\n",
              "      background-color: #E2EBFA;\n",
              "      box-shadow: 0px 1px 2px rgba(60, 64, 67, 0.3), 0px 1px 3px 1px rgba(60, 64, 67, 0.15);\n",
              "      fill: #174EA6;\n",
              "    }\n",
              "\n",
              "    [theme=dark] .colab-df-convert {\n",
              "      background-color: #3B4455;\n",
              "      fill: #D2E3FC;\n",
              "    }\n",
              "\n",
              "    [theme=dark] .colab-df-convert:hover {\n",
              "      background-color: #434B5C;\n",
              "      box-shadow: 0px 1px 3px 1px rgba(0, 0, 0, 0.15);\n",
              "      filter: drop-shadow(0px 1px 2px rgba(0, 0, 0, 0.3));\n",
              "      fill: #FFFFFF;\n",
              "    }\n",
              "  </style>\n",
              "\n",
              "      <script>\n",
              "        const buttonEl =\n",
              "          document.querySelector('#df-40760f68-7d20-4150-b444-bbce2be72655 button.colab-df-convert');\n",
              "        buttonEl.style.display =\n",
              "          google.colab.kernel.accessAllowed ? 'block' : 'none';\n",
              "\n",
              "        async function convertToInteractive(key) {\n",
              "          const element = document.querySelector('#df-40760f68-7d20-4150-b444-bbce2be72655');\n",
              "          const dataTable =\n",
              "            await google.colab.kernel.invokeFunction('convertToInteractive',\n",
              "                                                     [key], {});\n",
              "          if (!dataTable) return;\n",
              "\n",
              "          const docLinkHtml = 'Like what you see? Visit the ' +\n",
              "            '<a target=\"_blank\" href=https://colab.research.google.com/notebooks/data_table.ipynb>data table notebook</a>'\n",
              "            + ' to learn more about interactive tables.';\n",
              "          element.innerHTML = '';\n",
              "          dataTable['output_type'] = 'display_data';\n",
              "          await google.colab.output.renderOutput(dataTable, element);\n",
              "          const docLink = document.createElement('div');\n",
              "          docLink.innerHTML = docLinkHtml;\n",
              "          element.appendChild(docLink);\n",
              "        }\n",
              "      </script>\n",
              "    </div>\n",
              "  </div>\n",
              "  "
            ]
          },
          "metadata": {},
          "execution_count": 31
        }
      ]
    },
    {
      "cell_type": "code",
      "source": [
        "params = list(df.columns)\n",
        "params"
      ],
      "metadata": {
        "colab": {
          "base_uri": "https://localhost:8080/"
        },
        "id": "T7uMPc4X23NE",
        "outputId": "e8d5e3ba-d973-4ff8-9e3f-9976d1df2132"
      },
      "execution_count": 32,
      "outputs": [
        {
          "output_type": "execute_result",
          "data": {
            "text/plain": [
              "['Name',\n",
              " 'Age',\n",
              " 'Squad',\n",
              " 'Country',\n",
              " 'Comp',\n",
              " 'LgRank',\n",
              " '90s',\n",
              " 'Goals',\n",
              " 'Shots',\n",
              " 'Shots on Target',\n",
              " 'SoT%',\n",
              " 'Shots/90',\n",
              " 'SoT/90',\n",
              " 'Goals/Shot',\n",
              " 'Goals/SoT',\n",
              " 'Penalty Kicks',\n",
              " 'Penalty Kicks attempted']"
            ]
          },
          "metadata": {},
          "execution_count": 32
        }
      ]
    },
    {
      "cell_type": "code",
      "source": [
        "params = params[7:]\n",
        "params"
      ],
      "metadata": {
        "colab": {
          "base_uri": "https://localhost:8080/"
        },
        "id": "jO563xX33kSy",
        "outputId": "4b126d97-d43c-4a53-c976-67d5212ece35"
      },
      "execution_count": 33,
      "outputs": [
        {
          "output_type": "execute_result",
          "data": {
            "text/plain": [
              "['Goals',\n",
              " 'Shots',\n",
              " 'Shots on Target',\n",
              " 'SoT%',\n",
              " 'Shots/90',\n",
              " 'SoT/90',\n",
              " 'Goals/Shot',\n",
              " 'Goals/SoT',\n",
              " 'Penalty Kicks',\n",
              " 'Penalty Kicks attempted']"
            ]
          },
          "metadata": {},
          "execution_count": 33
        }
      ]
    },
    {
      "cell_type": "code",
      "source": [
        "# adding ranges to the tuples\n",
        "ranges = []\n",
        "a_values = []\n",
        "b_values = []\n",
        "for i in params:\n",
        "  a = min(df[params][i])\n",
        "  a = .7 * a\n",
        "  b = max(df[params][i])\n",
        "  b = 1.15 * b\n",
        "\n",
        "  ranges.append((a,b))\n",
        "\n",
        "ranges"
      ],
      "metadata": {
        "colab": {
          "base_uri": "https://localhost:8080/"
        },
        "id": "6dKe3soX3tlT",
        "outputId": "5655518a-b823-4098-d514-e6454bc9321a"
      },
      "execution_count": 34,
      "outputs": [
        {
          "output_type": "execute_result",
          "data": {
            "text/plain": [
              "[(15.399999999999999, 29.9),\n",
              " (51.8, 97.74999999999999),\n",
              " (21.7, 50.599999999999994),\n",
              " (29.33, 59.56999999999999),\n",
              " (2.443, 4.4505),\n",
              " (1.022, 2.3),\n",
              " (0.154, 0.299),\n",
              " (0.35, 0.598),\n",
              " (2.8, 6.8999999999999995),\n",
              " (2.8, 6.8999999999999995)]"
            ]
          },
          "metadata": {},
          "execution_count": 34
        }
      ]
    },
    {
      "cell_type": "code",
      "source": [
        "for i in range(len(df['Name'])):\n",
        "  if df['Name'][i] == 'Darwin Nunez':\n",
        "    a_values = list(df.iloc[i].values)\n",
        "  if df['Name'][i] == 'Erling Haaland':\n",
        "    b_values = list(df.iloc[i].values)\n",
        "\n",
        "a_values = a_values[7:]\n",
        "b_values = b_values[7:]\n",
        "values = [a_values,b_values]\n",
        "values"
      ],
      "metadata": {
        "colab": {
          "base_uri": "https://localhost:8080/"
        },
        "id": "2Y56OssO4-3i",
        "outputId": "8926b5f5-8444-47ec-cf7c-1577b478cc83"
      },
      "execution_count": 35,
      "outputs": [
        {
          "output_type": "execute_result",
          "data": {
            "text/plain": [
              "[[26, 85, 44, 51.8, 3.87, 2.0, 0.26, 0.5, 4, 4],\n",
              " [22, 74, 31, 41.9, 3.49, 1.46, 0.22, 0.52, 6, 6]]"
            ]
          },
          "metadata": {},
          "execution_count": 35
        }
      ]
    },
    {
      "cell_type": "code",
      "source": [
        "title = dict(\n",
        "    title_name = \"Darwin Núñez\",\n",
        "    title_color = 'red',\n",
        "    subtitle_name = 'S.L. Benfica 21/22',\n",
        "    subtitle_color = 'red',\n",
        "    title_name_2 = \"Erling Haaland\",\n",
        "    title_color_2 = 'blue',\n",
        "    subtitle_name_2 = 'Borussia Dortmund 21/22',\n",
        "    subtitle_color_2 = 'blue'\n",
        ")"
      ],
      "metadata": {
        "id": "iz5shey15yZC"
      },
      "execution_count": 36,
      "outputs": []
    },
    {
      "cell_type": "code",
      "source": [
        "radar = Radar()\n",
        "figure = radar.plot_radar(ranges = ranges, params = params, values = values, radar_color = ['red','blue'], alphas = [.75,.6], title = title, compare = True)"
      ],
      "metadata": {
        "colab": {
          "base_uri": "https://localhost:8080/",
          "height": 578
        },
        "id": "i0tXxNpD64PY",
        "outputId": "bd459331-cff3-4175-a170-ef340f116321"
      },
      "execution_count": 37,
      "outputs": [
        {
          "output_type": "display_data",
          "data": {
            "text/plain": [
              "<Figure size 1440x720 with 1 Axes>"
            ],
            "image/png": "[encoded data removed]"
          },
          "metadata": {}
        }
      ]
    },
    {
      "cell_type": "code",
      "source": [
        ""
      ],
      "metadata": {
        "id": "N7lUnO7K7Ned"
      },
      "execution_count": null,
      "outputs": []
    }
  ]
}